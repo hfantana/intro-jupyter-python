{
 "cells": [
  {
   "cell_type": "markdown",
   "metadata": {},
   "source": [
    "#### The Jupyter Notebook is an interactive environment for writing and running code. \n",
    "\n",
    "#### This is a tutorial that introduces you to the Jupyter Notebook, the basics of Python, and some basic programming tasks.\n",
    "\n",
    "#### <mark>Yellow highlights indicate a small exercise or task for you to try out.</mark>"
   ]
  },
  {
   "cell_type": "markdown",
   "metadata": {},
   "source": [
    "<div class=\"alert alert-block alert-info\">A cell like this indicates a question you need to answer for this Challenge on the U4I platform.</div>"
   ]
  },
  {
   "cell_type": "markdown",
   "metadata": {},
   "source": [
    "# The Jupyter Notebook"
   ]
  },
  {
   "cell_type": "markdown",
   "metadata": {},
   "source": [
    "Let's get familiar with working in the Jupyter Notebook."
   ]
  },
  {
   "cell_type": "markdown",
   "metadata": {},
   "source": [
    "You can double click on any text field to edit it. In the drop-down menu above, you can choose whether a cell is for `code`, `markdown` (like this cell), or `raw`.\\\n",
    "In this notebook, all markdown cells are for you to read as they contain instructions or useful information.\\\n",
    "Code cells are for you to edit or run. To run the cell, use the play button in the menu above above or Shift+Enter.\\\n",
    "<mark>If you run the code cell below, you'll see an error because \"this is a code cell\" is not something the Python interpreter can understand. Try it out</mark>"
   ]
  },
  {
   "cell_type": "code",
   "execution_count": null,
   "metadata": {},
   "outputs": [],
   "source": [
    "this is a code cell "
   ]
  },
  {
   "cell_type": "markdown",
   "metadata": {},
   "source": [
    "You can add a new cell by clicking the + in the menu at the top. You can move cells up or down by hovering your mouse to the left of the cell until you see the move cursor and dragging the cell. <mark>Try it out.</mark>"
   ]
  },
  {
   "cell_type": "markdown",
   "metadata": {},
   "source": [
    "<b>Things to keep in mind:</b>\\\n",
    "You can copy and paste code from one cell to another. This is encouraged to avoid small mistakes.\\\n",
    "All code is case sensitive, and any small mistake (e.g., an extra space or a missing quotation mark) can cause an error.\\\n",
    "Remember to run all the relevant cells (Shift+Enter) or the subsequent cells might result in an error."
   ]
  },
  {
   "cell_type": "markdown",
   "metadata": {},
   "source": [
    "# Python 101"
   ]
  },
  {
   "cell_type": "markdown",
   "metadata": {},
   "source": [
    "## Comments"
   ]
  },
  {
   "cell_type": "markdown",
   "metadata": {},
   "source": [
    "Anthing in a code cell that is preceded by a hash `#` is ignored by the Python interpreter and can be used to make comments. \n",
    "\n",
    "Comments are used to make the code easier for you and others to understand. A gray code cell like the one below that says \"# your code here\" indicates where you can write or copy/paste code to fulfill a task that is highlighted in yellow. These tasks are optional, but highly encouraged!"
   ]
  },
  {
   "cell_type": "markdown",
   "metadata": {},
   "source": [
    "<mark>Try entering a comment in the code cell below `# testing out code cells`\\\n",
    "Hit enter and write `5+5`\\\n",
    "Hit Shift+Enter\\\n",
    "You should get the output `10` <mark>"
   ]
  },
  {
   "cell_type": "code",
   "execution_count": null,
   "metadata": {},
   "outputs": [],
   "source": [
    "# your code here"
   ]
  },
  {
   "cell_type": "markdown",
   "metadata": {},
   "source": [
    "This illustrates one use for Python: a calculator.\\\n",
    "<mark>Feel free to add more code cells (the plus button in the top menu) and try out more calculations.</mark>"
   ]
  },
  {
   "cell_type": "markdown",
   "metadata": {},
   "source": [
    "## Variables (identifiers), strings, and assigning values"
   ]
  },
  {
   "cell_type": "markdown",
   "metadata": {},
   "source": [
    "Assigning a value to a variable allows us to later use the variable in commands. This is done using the `=` operator."
   ]
  },
  {
   "cell_type": "code",
   "execution_count": null,
   "metadata": {},
   "outputs": [],
   "source": [
    "# assign the value 567 to the name 'x' and the value 4 to the name 'y'\n",
    "x=567\n",
    "Y=4"
   ]
  },
  {
   "cell_type": "markdown",
   "metadata": {},
   "source": [
    "You might notice that when you ran the above cell, nothing happened. This is because you didn't ask for anything to happen, the only instructions you gave were assigning some names to some values and the Python interpreter has understood this.\n",
    "\n",
    "In general, if you run a code cell and nothing happens, do not panic! This means the Python interpreter has understood the intructions you wrote but there is just no output. If you see an error, however, there is something that the interpreter did not understand.\n",
    "\n",
    "Try using x and Y with an operator (e.g., x+Y). Don't forget to add a comment to explain what you are doing (e.g., # add x and y) - this is a good habit to develop when writing code."
   ]
  },
  {
   "cell_type": "code",
   "execution_count": null,
   "metadata": {},
   "outputs": [],
   "source": [
    "# your code here "
   ]
  },
  {
   "cell_type": "markdown",
   "metadata": {},
   "source": [
    "Notice that the varibles we assigned are x and Y (not y). <mark>What happens if you try to add x and y?</mark>"
   ]
  },
  {
   "cell_type": "code",
   "execution_count": null,
   "metadata": {},
   "outputs": [],
   "source": [
    "# your code here"
   ]
  },
  {
   "cell_type": "markdown",
   "metadata": {},
   "source": [
    "Python identifiers or variables are case-sensitive and can be a combination of letters, numbers and/or underscores, starting with a letter or underscore (i.e., not a number)."
   ]
  },
  {
   "cell_type": "markdown",
   "metadata": {},
   "source": [
    "You can also assign variables or identifiers to a string, which is a sequence of non-numerical characters enclosed within a pair of 'single' or \"double quotes\".\\\n",
    "<mark>Run the cell below.</mark>"
   ]
  },
  {
   "cell_type": "code",
   "execution_count": null,
   "metadata": {},
   "outputs": [],
   "source": [
    "# create a string 'I like blue' and assign to 'colors'\n",
    "color = 'I like blue'"
   ]
  },
  {
   "cell_type": "markdown",
   "metadata": {},
   "source": [
    "You can see the list by just writing the name of the list in the code cell below, which let's you know that the the assignment you did in the above cell worked."
   ]
  },
  {
   "cell_type": "code",
   "execution_count": null,
   "metadata": {},
   "outputs": [],
   "source": [
    "# your code here"
   ]
  },
  {
   "cell_type": "markdown",
   "metadata": {},
   "source": [
    "## Printing"
   ]
  },
  {
   "cell_type": "markdown",
   "metadata": {},
   "source": [
    "The print function outputs the value of its comma-delimited arguments, separated by a single blank space."
   ]
  },
  {
   "cell_type": "code",
   "execution_count": null,
   "metadata": {},
   "outputs": [],
   "source": [
    "print('blue', 'green', 'orange', 'red', 'magenta', 'white', 'pink', 4, 6, 9, 234)"
   ]
  },
  {
   "cell_type": "markdown",
   "metadata": {},
   "source": [
    "Notice that numerical values do not need to be enclosed within quotes. <mark>What happens if you forget to enclose a string within quotes? Try it in the cell below.</mark>"
   ]
  },
  {
   "cell_type": "code",
   "execution_count": null,
   "metadata": {},
   "outputs": [],
   "source": [
    "# your code here - print the list above but do not enclode the strings in quotation marks)"
   ]
  },
  {
   "cell_type": "markdown",
   "metadata": {},
   "source": [
    "If you enter multiple commands in one code cell and hit Shift+Enter, it will automatically output the last command line."
   ]
  },
  {
   "cell_type": "code",
   "execution_count": null,
   "metadata": {},
   "outputs": [],
   "source": [
    "4+5\n",
    "6/7"
   ]
  },
  {
   "cell_type": "markdown",
   "metadata": {},
   "source": [
    "If you want to print mutiple lines, you will need to use the print function."
   ]
  },
  {
   "cell_type": "code",
   "execution_count": null,
   "metadata": {},
   "outputs": [],
   "source": [
    "print(4+5)\n",
    "6/7"
   ]
  },
  {
   "cell_type": "markdown",
   "metadata": {},
   "source": [
    "## Lists"
   ]
  },
  {
   "cell_type": "markdown",
   "metadata": {},
   "source": [
    "A list is an ordered sequence of 1 or more comma-delimited elements enclosed within square brackets `[]`. Python lists are heterogeneous, i.e., they can contain elements of different types."
   ]
  },
  {
   "cell_type": "code",
   "execution_count": null,
   "metadata": {},
   "outputs": [],
   "source": [
    "# create a heterogeneous list and assign to name 'hetero_list'\n",
    "hetero_list = ['blue', 'green', 'orange', 4, 6, 234, 'pink']"
   ]
  },
  {
   "cell_type": "code",
   "execution_count": null,
   "metadata": {},
   "outputs": [],
   "source": [
    "print(hetero_list)"
   ]
  },
  {
   "cell_type": "markdown",
   "metadata": {},
   "source": [
    "Remember, you can also just print the list by writing the name of the list. <mark>Try it out below.</mark>"
   ]
  },
  {
   "cell_type": "code",
   "execution_count": null,
   "metadata": {},
   "outputs": [],
   "source": [
    "# your code here"
   ]
  },
  {
   "cell_type": "markdown",
   "metadata": {},
   "source": [
    "You can combine lists using the `+` operator."
   ]
  },
  {
   "cell_type": "code",
   "execution_count": null,
   "metadata": {},
   "outputs": [],
   "source": [
    "# create 3 lists\n",
    "list_1 = [2, 3, 5, 6,]\n",
    "list_2 = ['blue', 'green', 'orange', 'red', 'magenta', 'white', 'pink']\n",
    "list_3 = [12, 23,]"
   ]
  },
  {
   "cell_type": "code",
   "execution_count": null,
   "metadata": {},
   "outputs": [],
   "source": [
    "# add list_1, list_2, and list_3\n",
    "print (list_1 + list_2 + list_3)"
   ]
  },
  {
   "cell_type": "markdown",
   "metadata": {},
   "source": [
    "You can access a certain element within a list by specifying its position.\\\n",
    "Note: In Python, the first element is at position `0`."
   ]
  },
  {
   "cell_type": "code",
   "execution_count": null,
   "metadata": {},
   "outputs": [],
   "source": [
    "# print 3rd element in hetero_list\n",
    "print(hetero_list[2])"
   ]
  },
  {
   "cell_type": "markdown",
   "metadata": {},
   "source": [
    "<div class=\"alert alert-block alert-info\">Print the 5th element in list_2 and answer Q1.</div>"
   ]
  },
  {
   "cell_type": "code",
   "execution_count": null,
   "metadata": {},
   "outputs": [],
   "source": [
    "# your code here"
   ]
  },
  {
   "cell_type": "markdown",
   "metadata": {},
   "source": [
    "Slice notation can be used to access positions within a list by specifying two index positions separated by a colon `:`."
   ]
  },
  {
   "cell_type": "code",
   "execution_count": null,
   "metadata": {},
   "outputs": [],
   "source": [
    "# print the first 4 elements in list_2\n",
    "print(list_2[0:4])"
   ]
  },
  {
   "cell_type": "markdown",
   "metadata": {},
   "source": [
    "<mark>Feel free to play around with creating new lists or variables, using operators, and the print function.</mark>"
   ]
  },
  {
   "cell_type": "markdown",
   "metadata": {},
   "source": [
    "## Operators"
   ]
  },
  {
   "cell_type": "markdown",
   "metadata": {},
   "source": [
    "Operators are symbols that carry out arithmetic or logical computation.\\\n",
    "\\\n",
    "`a + b`    a plus b\\\n",
    "`a - b`    a minus b\\\n",
    "`a * b`    a mutiplied by b\\\n",
    "`a / b`    a divided by b\\\n",
    "`a == b`   a equals b\\\n",
    "`a != b`   a does not equal b\\\n",
    "`a < b`    a is less than b\\\n",
    "`a <= b`   a is less than or equal to b\\\n",
    "`a > b`    a is greater than b\\\n",
    "`a >= b`   a is greater than or equal to b"
   ]
  },
  {
   "cell_type": "markdown",
   "metadata": {},
   "source": [
    "## Control Flow Statements"
   ]
  },
  {
   "cell_type": "markdown",
   "metadata": {},
   "source": [
    "<mark>Take a look at the code cell below and hit Shift+Enter.</mark>"
   ]
  },
  {
   "cell_type": "code",
   "execution_count": null,
   "metadata": {},
   "outputs": [],
   "source": [
    "a, b = 0, 1\n",
    "\n",
    "while b < 100:    \n",
    "    print(b)\n",
    "    a, b = b, a+b"
   ]
  },
  {
   "cell_type": "markdown",
   "metadata": {},
   "source": [
    "You might recognize the output as the Fibonacci sequence, where every number is the sum of the previous two numbers."
   ]
  },
  {
   "cell_type": "markdown",
   "metadata": {},
   "source": [
    "This is an example of a control flow statement, in this case, the `while` statement. The control flow is the order in which code is executed and is regulated by <b>conditional statements</b> and <b>loops</b>."
   ]
  },
  {
   "cell_type": "markdown",
   "metadata": {},
   "source": [
    "### The `while` Statment"
   ]
  },
  {
   "cell_type": "markdown",
   "metadata": {},
   "source": [
    "This is used to do something as long as the condition(s) are met.\\\n",
    "Consider this while loop <mark>(hit Shift+Enter):</mark>"
   ]
  },
  {
   "cell_type": "code",
   "execution_count": null,
   "metadata": {},
   "outputs": [],
   "source": [
    "n = 5\n",
    "while n > 0:\n",
    "    n = n - 1\n",
    "    print(n)"
   ]
  },
  {
   "cell_type": "markdown",
   "metadata": {},
   "source": [
    "n is initially 5. The first line of the while statement is `n > 0`, which is true, so the loop executes. Inside the loop, n is reduced by 1, and printed.\n",
    "\n",
    "When the loop has finished, program execution returns to the top of the loop again, and the expression is evaluated again. It is still true, so n is reduced by 1, and 3 is printed.\n",
    "\n",
    "This continues until n becomes 0. At that point, when the while statement is tested, it is false, and the loop terminates. "
   ]
  },
  {
   "cell_type": "markdown",
   "metadata": {},
   "source": [
    "### The `for` Statement"
   ]
  },
  {
   "cell_type": "markdown",
   "metadata": {},
   "source": [
    "This is used to do something for a defined number of times.\\\n",
    "Consider this for loop <mark>(hit Shift+Enter):</mark>"
   ]
  },
  {
   "cell_type": "code",
   "execution_count": null,
   "metadata": {},
   "outputs": [],
   "source": [
    "for x in range(0, 10):\n",
    "    print(x+1)"
   ]
  },
  {
   "cell_type": "markdown",
   "metadata": {},
   "source": [
    "We can use the `range()` function for loops to iterate through a sequence of numbers.\\\n",
    "For example range(1, 10) takes numbers 0 to 9.\n",
    "For each x between 0 and 10, print x plus 1:\n",
    "- The first number in the range is 0, 0 + 1 = 1\n",
    "- The second number in the range is 1, 1 + 1 = 2\n",
    "- The last number in the range is 9, 9 + 1 = 10"
   ]
  },
  {
   "cell_type": "markdown",
   "metadata": {},
   "source": [
    "### The `if...else...elif` Statement"
   ]
  },
  {
   "cell_type": "markdown",
   "metadata": {},
   "source": [
    "This statement is used for decision making, i.e., when we want to execute a command only if a condition is satisified.\\\n",
    "Consider this if...elif...else statement <mark>(hit Shift+Enter):</mark>:"
   ]
  },
  {
   "cell_type": "code",
   "execution_count": null,
   "metadata": {},
   "outputs": [],
   "source": [
    "num = 5\n",
    "\n",
    "if num > 0:\n",
    "    print(\"Positive\")\n",
    "elif num < 0:\n",
    "    print(\"Negative\")\n",
    "else:\n",
    "    print(\"Zero\")"
   ]
  },
  {
   "cell_type": "markdown",
   "metadata": {},
   "source": [
    "If the variable `num` is greater than zero, \"Positive\" is printed.\\\n",
    "Else if the variable `num` is less than zero, \"Negative\" is printed.\\\n",
    "Else, i.e., the variable `num` is equal to zero, \"Zero\" is printed.\\\n",
    "\n",
    "<mark>You can try to define `num` as a different number to see if the program still works in the same code cell above.</mark>"
   ]
  },
  {
   "cell_type": "markdown",
   "metadata": {},
   "source": [
    "## Fun with Functions"
   ]
  },
  {
   "cell_type": "markdown",
   "metadata": {},
   "source": [
    "A function is a block of reusable code that is used to perform an action. Python, like most other programming languages, comes with a set of built-in functions.\\\n",
    "Functions always have brackets `()` where you can enter the parameters of the function.\\\n",
    "We have already used a function: `print()`.\\\n",
    "\\\n",
    "Here are some other common functions:\\\n",
    "The `input()` function allows the user to input a string before a default message.\\\n",
    "The `int()` function returns an integer.\\\n",
    "The `str()`function returns a string.\\\n",
    "<mark>Try out the program in the cell below. Remember to run the code cell first. Feel free to play around with the program by changing variables or values.</mark>"
   ]
  },
  {
   "cell_type": "code",
   "execution_count": null,
   "metadata": {},
   "outputs": [],
   "source": [
    "Name = input('Name: ')\n",
    "Age = int(input('Age: '))\n",
    "Current_year = int(input(\"Current year: \"))\n",
    "Year = str((Current_year - Age)+100)\n",
    "print(Name + ', ' + 'you will be 100 years old in ' + Year + '.')"
   ]
  },
  {
   "cell_type": "markdown",
   "metadata": {},
   "source": [
    "# Playing with Programming"
   ]
  },
  {
   "cell_type": "markdown",
   "metadata": {},
   "source": [
    "Programming essentially means writing a program (a set of functions) to solve a task or a problem."
   ]
  },
  {
   "cell_type": "markdown",
   "metadata": {},
   "source": [
    "The following example is a common programming task called FizzBuzz:\\\n",
    "<b>Write a program that prints the numbers from 1 to 50.\\\n",
    "For multiples of 3, print \"Fizz\" instead of the number, and for multiples of 5, print \"Buzz\", instead of the number.\\\n",
    "For numbers which are multiples of both 3 and 5, print \"FizzBuzz\".</b>"
   ]
  },
  {
   "cell_type": "markdown",
   "metadata": {},
   "source": [
    "#### Step 1: Write a program that prints the numbes from 1 to 50.\n",
    "\n",
    "Here we will use a for loop and the range function.\\\n",
    "<mark>Hit Shift+Enter in 'the cell below.</mark>"
   ]
  },
  {
   "cell_type": "code",
   "execution_count": null,
   "metadata": {},
   "outputs": [],
   "source": [
    "for x in range(1,50):\n",
    "    print (x)"
   ]
  },
  {
   "cell_type": "markdown",
   "metadata": {},
   "source": [
    "#### Step 2: For multiples of 3, print \"Fizz\" instead of the number, and for multiples of 5, print \"Buzz\", instead of the number\n",
    "\n",
    "In Python, `%` is used to calculate the modulo between two numbers, i.e., the remainder when you divide the first number by the second number. We want to print `Fizz`instead of `x` when `x % 3 == 0`. Note: `=` assigns a value to a valriable whereas `==` between two expressions means they have the same value (i.e., equals).\n",
    "\n",
    "We will use a `for` loop, the `range()` function, and an `if…elif…else` statement. \n",
    "\n",
    "<mark>Hit Shift+Enter in 'the cell below.</mark>"
   ]
  },
  {
   "cell_type": "code",
   "execution_count": null,
   "metadata": {},
   "outputs": [],
   "source": [
    "for x in range(1,50):\n",
    "    if x % 3 == 0:\n",
    "        print (\"Fizz\")\n",
    "    elif x % 5 == 0:\n",
    "        print (\"Buzz\")\n",
    "    else:\n",
    "        print (x)"
   ]
  },
  {
   "cell_type": "markdown",
   "metadata": {},
   "source": [
    "#### Step 3: For numbers which are multiples of both 3 and 5, print \"FizzBuzz\".\n",
    "\n",
    "This step should be easy right? Just add another `elif` statement.\n",
    "\n",
    "<mark>Try it in the cell below. Copy the code from Step 2 and add another statement to fulfil Step 3.</mark>"
   ]
  },
  {
   "cell_type": "code",
   "execution_count": null,
   "metadata": {},
   "outputs": [],
   "source": [
    "# your code here"
   ]
  },
  {
   "cell_type": "markdown",
   "metadata": {},
   "source": [
    "You've successfully solved a programming task using Python!"
   ]
  }
 ],
 "metadata": {
  "kernelspec": {
   "display_name": "Python 3",
   "language": "python",
   "name": "python3"
  },
  "language_info": {
   "codemirror_mode": {
    "name": "ipython",
    "version": 3
   },
   "file_extension": ".py",
   "mimetype": "text/x-python",
   "name": "python",
   "nbconvert_exporter": "python",
   "pygments_lexer": "ipython3",
   "version": "3.7.4"
  }
 },
 "nbformat": 4,
 "nbformat_minor": 4
}
